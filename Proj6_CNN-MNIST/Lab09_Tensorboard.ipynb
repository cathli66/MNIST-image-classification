{
 "cells": [
  {
   "cell_type": "code",
   "execution_count": 5,
   "id": "beautiful-participation",
   "metadata": {},
   "outputs": [],
   "source": [
    "import numpy as np\n",
    "from tensorflow import keras\n",
    "# from keras.datasets import mnist\n",
    "# from keras.utils import to_categorical\n",
    "from tensorflow.keras import layers\n",
    "from tensorflow.keras.callbacks import TensorBoard\n",
    "import time\n",
    "\n",
    "NAME = \"MNIST-cnn-64x3-{}\".format(int(time.time()))\n",
    "tb = TensorBoard(log_dir='logs/{}'.format(NAME))\n",
    "\n",
    "# Model / data parameters\n",
    "num_classes = 10\n",
    "input_shape = (28, 28, 1)\n",
    "\n",
    "# Fixing shape of data\n",
    "(x_train, y_train), (x_test, y_test) = keras.datasets.mnist.load_data()\n",
    "x_train = x_train.reshape((x_train.shape[0], 28, 28, 1))\n",
    "x_test = x_test.reshape((x_test.shape[0], 28, 28, 1))\n",
    "y_train = keras.utils.to_categorical(y_train)\n",
    "y_test = keras.utils.to_categorical(y_test)\n",
    "\n",
    "# Scale images to the [0, 1] range\n",
    "x_train = x_train.astype(\"float32\") / 255\n",
    "x_test = x_test.astype(\"float32\") / 255"
   ]
  },
  {
   "cell_type": "code",
   "execution_count": 6,
   "id": "exciting-retailer",
   "metadata": {},
   "outputs": [
    {
     "name": "stdout",
     "output_type": "stream",
     "text": [
      "Model: \"sequential_1\"\n",
      "_________________________________________________________________\n",
      "Layer (type)                 Output Shape              Param #   \n",
      "=================================================================\n",
      "conv2d_3 (Conv2D)            (None, 28, 28, 32)        1600      \n",
      "_________________________________________________________________\n",
      "max_pooling2d_3 (MaxPooling2 (None, 14, 14, 32)        0         \n",
      "_________________________________________________________________\n",
      "conv2d_4 (Conv2D)            (None, 14, 14, 32)        50208     \n",
      "_________________________________________________________________\n",
      "max_pooling2d_4 (MaxPooling2 (None, 7, 7, 32)          0         \n",
      "_________________________________________________________________\n",
      "conv2d_5 (Conv2D)            (None, 7, 7, 32)          25632     \n",
      "_________________________________________________________________\n",
      "max_pooling2d_5 (MaxPooling2 (None, 4, 4, 32)          0         \n",
      "_________________________________________________________________\n",
      "flatten_1 (Flatten)          (None, 512)               0         \n",
      "_________________________________________________________________\n",
      "dropout_1 (Dropout)          (None, 512)               0         \n",
      "_________________________________________________________________\n",
      "dense_2 (Dense)              (None, 100)               51300     \n",
      "_________________________________________________________________\n",
      "dense_3 (Dense)              (None, 10)                1010      \n",
      "=================================================================\n",
      "Total params: 129,750\n",
      "Trainable params: 129,750\n",
      "Non-trainable params: 0\n",
      "_________________________________________________________________\n"
     ]
    }
   ],
   "source": [
    "model = keras.Sequential(\n",
    "    [\n",
    "        keras.Input(shape=input_shape),\n",
    "        layers.Conv2D(32, kernel_size=(7, 7), strides=(1, 1), padding=\"same\", activation=\"relu\"),\n",
    "        layers.MaxPooling2D(pool_size=(2, 2), padding=\"same\"),\n",
    "        layers.Conv2D(32, kernel_size=(7, 7), strides=(1, 1), padding=\"same\", activation=\"relu\"),\n",
    "        layers.MaxPooling2D(pool_size=(2, 2), padding=\"same\"),\n",
    "        layers.Conv2D(32, kernel_size=(5, 5), strides=(1, 1), padding=\"same\", activation=\"relu\"),\n",
    "        layers.MaxPooling2D(pool_size=(2, 2), padding=\"same\"),\n",
    "        layers.Flatten(),\n",
    "        layers.Dropout(0.5),\n",
    "        layers.Dense(100, activation=\"relu\"),\n",
    "        layers.Dense(num_classes, activation=\"relu\"),\n",
    "    ]\n",
    ")\n",
    "\n",
    "model.summary()"
   ]
  },
  {
   "cell_type": "code",
   "execution_count": 7,
   "id": "acquired-cassette",
   "metadata": {},
   "outputs": [
    {
     "name": "stdout",
     "output_type": "stream",
     "text": [
      "Train on 54000 samples, validate on 6000 samples\n",
      "Epoch 1/10\n",
      "54000/54000 [==============================] - 70s 1ms/sample - loss: 0.0166 - accuracy: 0.9187 - val_loss: 0.0032 - val_accuracy: 0.9898\n",
      "Epoch 2/10\n",
      "54000/54000 [==============================] - 60s 1ms/sample - loss: 0.0049 - accuracy: 0.9835 - val_loss: 0.0020 - val_accuracy: 0.9917\n",
      "Epoch 3/10\n",
      "54000/54000 [==============================] - 61s 1ms/sample - loss: 0.0033 - accuracy: 0.9882 - val_loss: 0.0018 - val_accuracy: 0.9912\n",
      "Epoch 4/10\n",
      "54000/54000 [==============================] - 57s 1ms/sample - loss: 0.0025 - accuracy: 0.9893 - val_loss: 0.0014 - val_accuracy: 0.9922\n",
      "Epoch 5/10\n",
      "54000/54000 [==============================] - 56s 1ms/sample - loss: 0.0019 - accuracy: 0.9921 - val_loss: 0.0012 - val_accuracy: 0.9932\n",
      "Epoch 6/10\n",
      "54000/54000 [==============================] - 56s 1ms/sample - loss: 0.0016 - accuracy: 0.9935 - val_loss: 0.0014 - val_accuracy: 0.9933\n",
      "Epoch 7/10\n",
      "54000/54000 [==============================] - 55s 1ms/sample - loss: 0.0014 - accuracy: 0.9941 - val_loss: 0.0011 - val_accuracy: 0.9952\n",
      "Epoch 8/10\n",
      "54000/54000 [==============================] - 57s 1ms/sample - loss: 0.0013 - accuracy: 0.9944 - val_loss: 0.0012 - val_accuracy: 0.9925\n",
      "Epoch 9/10\n",
      "54000/54000 [==============================] - 59s 1ms/sample - loss: 0.0012 - accuracy: 0.9951 - val_loss: 0.0011 - val_accuracy: 0.9940\n",
      "Epoch 10/10\n",
      "54000/54000 [==============================] - 57s 1ms/sample - loss: 0.0010 - accuracy: 0.9957 - val_loss: 0.0011 - val_accuracy: 0.9943\n"
     ]
    },
    {
     "data": {
      "text/plain": [
       "<tensorflow.python.keras.callbacks.History at 0x7f95da5a9510>"
      ]
     },
     "execution_count": 7,
     "metadata": {},
     "output_type": "execute_result"
    }
   ],
   "source": [
    "batch_size = 128\n",
    "epochs = 10\n",
    "\n",
    "model.compile(loss=\"mse\", optimizer=\"adam\", metrics=[\"accuracy\"]) # loss is mean squared error\n",
    "\n",
    "model.fit(x_train, y_train, batch_size=batch_size, epochs=epochs, validation_split=0.1, callbacks=[tb])\n"
   ]
  },
  {
   "cell_type": "code",
   "execution_count": 9,
   "id": "completed-latvia",
   "metadata": {},
   "outputs": [
    {
     "name": "stdout",
     "output_type": "stream",
     "text": [
      "Test accuracy: 0.993\n"
     ]
    }
   ],
   "source": [
    "score = model.evaluate(x_test, y_test, verbose=0)\n",
    "print(\"Test accuracy:\", score[1])"
   ]
  },
  {
   "cell_type": "code",
   "execution_count": null,
   "id": "oriental-leather",
   "metadata": {},
   "outputs": [],
   "source": []
  }
 ],
 "metadata": {
  "kernelspec": {
   "display_name": "Python 3",
   "language": "python",
   "name": "python3"
  },
  "language_info": {
   "codemirror_mode": {
    "name": "ipython",
    "version": 3
   },
   "file_extension": ".py",
   "mimetype": "text/x-python",
   "name": "python",
   "nbconvert_exporter": "python",
   "pygments_lexer": "ipython3",
   "version": "3.7.9"
  }
 },
 "nbformat": 4,
 "nbformat_minor": 5
}
